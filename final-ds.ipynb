{
 "cells": [
  {
   "cell_type": "code",
   "execution_count": null,
   "id": "612fd485-6c9e-49d6-af62-754cdea42224",
   "metadata": {},
   "outputs": [],
   "source": [
    "### Final Project Notebook"
   ]
  },
  {
   "cell_type": "code",
   "execution_count": null,
   "id": "7f83d40f-ec5e-4dbc-8f67-23c237a2382e",
   "metadata": {},
   "outputs": [],
   "source": [
    "## Introduction\n",
    "#This notebook demonstrates basic concepts and tools used in Data Science."
   ]
  },
  {
   "cell_type": "code",
   "execution_count": null,
   "id": "3c61495c-0201-4762-87a8-64a5b35d2078",
   "metadata": {},
   "outputs": [],
   "source": [
    "## Data Science Languages\n",
    "#- Python\n",
    "#- R\n",
    "#- SQL\n",
    "#- Java\n",
    "#- Julia\n"
   ]
  },
  {
   "cell_type": "code",
   "execution_count": null,
   "id": "7ef7a7d3-da73-46b5-8ac5-6d135958cc7f",
   "metadata": {},
   "outputs": [],
   "source": [
    "## Data Science Libraries\n",
    "#- Pandas\n",
    "#- NumPy\n",
    "#- Matplotlib\n",
    "#- Scikit-learn\n",
    "#- TensorFlow\n",
    "#- Seaborn\n"
   ]
  },
  {
   "cell_type": "code",
   "execution_count": null,
   "id": "d10fe4e8-3b1b-47c7-84c6-34f577e6bf95",
   "metadata": {},
   "outputs": [],
   "source": [
    "## Data Science Tools\n",
    "\n",
    "#| Tool          | Description                    |\n",
    "#|---------------|--------------------------------|\n",
    "#| Jupyter       | Interactive coding environment |\n",
    "#| RStudio       | IDE for R                      |\n",
    "#| Apache Spark  | Big data processing framework  |\n"
   ]
  },
  {
   "cell_type": "code",
   "execution_count": null,
   "id": "9f2338b6-4baa-4636-8ae6-c05a677df0d2",
   "metadata": {},
   "outputs": [],
   "source": [
    "## Examples of Arithmetic Expressions\n",
    "#Below are examples of simple arithmetic operations in Python."
   ]
  },
  {
   "cell_type": "code",
   "execution_count": 2,
   "id": "4c05532d-1571-437f-80e5-19f95598e684",
   "metadata": {},
   "outputs": [
    {
     "data": {
      "text/plain": [
       "17"
      ]
     },
     "execution_count": 2,
     "metadata": {},
     "output_type": "execute_result"
    }
   ],
   "source": [
    "# Multiplication and addition example\n",
    "(3 * 4) + 5\n"
   ]
  },
  {
   "cell_type": "code",
   "execution_count": 3,
   "id": "1201ed79-7efe-4bbe-b696-499d8fc2d60f",
   "metadata": {},
   "outputs": [
    {
     "data": {
      "text/plain": [
       "2.0"
      ]
     },
     "execution_count": 3,
     "metadata": {},
     "output_type": "execute_result"
    }
   ],
   "source": [
    "# Convert 120 minutes to hours\n",
    "minutes = 120\n",
    "hours = minutes / 60\n",
    "hours\n"
   ]
  },
  {
   "cell_type": "code",
   "execution_count": null,
   "id": "5dd98a22-fdec-45fe-833b-d47bf5f9eedc",
   "metadata": {},
   "outputs": [],
   "source": [
    "## Objectives\n",
    "#- List popular languages for Data Science\n",
    "#- Introduce common libraries and tools\n",
    "#- Perform basic arithmetic in Python\n",
    "#- Convert minutes to hours using code\n",
    "#- Share a notebook through GitHub"
   ]
  },
  {
   "cell_type": "code",
   "execution_count": null,
   "id": "735390b7-9898-41e0-afb0-60af62aa4e0b",
   "metadata": {},
   "outputs": [],
   "source": [
    "##Aurthor\n",
    "# MD KHUSHTAR ALI"
   ]
  }
 ],
 "metadata": {
  "kernelspec": {
   "display_name": "Python 3 (ipykernel)",
   "language": "python",
   "name": "python3"
  },
  "language_info": {
   "codemirror_mode": {
    "name": "ipython",
    "version": 3
   },
   "file_extension": ".py",
   "mimetype": "text/x-python",
   "name": "python",
   "nbconvert_exporter": "python",
   "pygments_lexer": "ipython3",
   "version": "3.12.6"
  }
 },
 "nbformat": 4,
 "nbformat_minor": 5
}
